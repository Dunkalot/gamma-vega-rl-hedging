{
 "cells": [
  {
   "cell_type": "code",
   "execution_count": null,
   "id": "08d0d190",
   "metadata": {},
   "outputs": [],
   "source": [
    "from importlib import reload\n",
    "from environment import lmmsabr\n",
    "from environment.lmmsabr import make_nss_yield_df, compute_6m_forward_dataframe\n",
    "import matplotlib.pyplot as plt\n",
    "import numpy as np\n",
    "np.set_printoptions(precision=10, suppress=True)\n",
    "np.set_printoptions(threshold=np.inf, linewidth=np.inf)\n",
    "reload(lmmsabr)\n",
    "\n",
    "\n",
    "\n",
    "\n",
    "hed_expiry = 2\n",
    "liab_expiry = 1\n",
    "\n",
    "def generate_datasets(hed_expiry, liab_expiry): \n",
    "\n",
    "\n",
    "\n",
    "    hed_expiry_str = f\"{int(12*hed_expiry)}m\" if type(hed_expiry) == float else f\"{hed_expiry}y\"\n",
    "    liab_expiry_str = f\"{int(12*liab_expiry)}m\" if type(liab_expiry) == float else f\"{liab_expiry}y\"\n",
    "    lmm = lmmsabr.LMMSABR(imm=True, sub_steps=8, tenor=5, resolution=126, tau=0.5,sim_time=0.25,  swap_hedge_expiry=hed_expiry,swap_client_expiry=liab_expiry, beta=0.5)\n",
    "\n",
    "    # Rebonato configuration\n",
    "    rho_config = {'eta_range':(0.0,0.0), 'lambda_range':( 0.0242, 0.0242)}\n",
    "    theta_config = {'eta_range':(0.0,0.0), 'lambda_range':( 2*0.0248, 2*0.0248)}\n",
    "    phi_config = {'phi_long':-0.6,'phi_short':-0.5, 'lambda3_range': (0.0,0.0), 'lambda4_range':(0.0,0.0)}\n",
    "    \n",
    "    # fixed 5pct curve\n",
    "    df = compute_6m_forward_dataframe(make_nss_yield_df()).iloc[[0]]\n",
    "    df[:] = 0.05\n",
    "    # set up starting conditions\n",
    "    lmm.sample_starting_conditions(df,\n",
    "                                rho_kwargs=rho_config,\n",
    "                                theta_kwargs=theta_config,\n",
    "                                phi_kwargs=phi_config)\n",
    "    lmm.prime()\n",
    "    \n",
    "    suffix = f\"_flat_5pct_curve_{hed_expiry_str}_{liab_expiry_str}\"\n",
    "    lmm.generate_episodes_imm(n_episodes=50_000, min_stress_prob=0.0, max_stress_prob=0.0, out_dir=f'data/calm{suffix}')\n",
    "    #lmm.generate_episodes_imm(n_episodes=50_000, min_stress_prob=1.0, max_stress_prob=1.0, out_dir=f'data/stress{suffix}')\n",
    "    #lmm.generate_episodes_imm(n_episodes=45_000, min_stress_prob=0.0, max_stress_prob=0.8, out_dir=f'data/curriculum{suffix}') # only 20000, eval will be 50/50\n",
    "    #lmm.generate_episodes_imm(n_episodes=5000,   min_stress_prob=0.5, max_stress_prob=0.5, out_dir=f'data/5050{suffix}')"
   ]
  },
  {
   "cell_type": "markdown",
   "id": "82976b5f",
   "metadata": {},
   "source": [
    "the correlation will stay constant across regimes"
   ]
  },
  {
   "cell_type": "code",
   "execution_count": null,
   "id": "aff43220",
   "metadata": {},
   "outputs": [],
   "source": [
    "generate_datasets(0.5,1)\n",
    "#generate_datasets(2,1)"
   ]
  },
  {
   "cell_type": "code",
   "execution_count": null,
   "id": "51cee0ca",
   "metadata": {},
   "outputs": [],
   "source": [
    "def make_plots(lmm):\n",
    "    # lmm.simulate(seed=0)\n",
    "    # lmm.get_swap_matrix()\n",
    "    # lmm.get_sabr_params_imm()\n",
    "    # lmm.plot(lmm.h_mat)\n",
    "    # lmm.plot(lmm.g_mat)\n",
    "    # print(\"f_sim\")\n",
    "    # lmm.plot(lmm.f_sim[:,lmm.ids_fwd_canon])\n",
    "    # print(\"s_mat\")\n",
    "    # lmm.plot(lmm.k_mat[:,lmm.ids_fwd_canon]*lmm.g_mat[:,lmm.ids_fwd_canon])\n",
    "    # plt.show()\n",
    "    # plt.plot(lmm.V)\n",
    "    # plt.show()\n",
    "    # plt.plot(lmm.alpha)\n",
    "    # plt.show()\n",
    "    # plt.plot(lmm.phi)\n",
    "    # plt.show()\n",
    "    # n_sim = 100\n",
    "    # swap_paths_hed = np.zeros((n_sim,lmm.swap_sim_shape[0]))\n",
    "    # swap_paths_liab  = np.zeros((n_sim,lmm.swap_sim_shape[0]))\n",
    "    # for i in range(n_sim):\n",
    "    #     lmm.simulate()\n",
    "    #     lmm.get_swap_matrix()\n",
    "    #     swap_paths_hed[i] = lmm.swap_sim[:,0]\n",
    "    #     swap_paths_liab[i] = lmm.swap_sim[:,1]\n",
    "    # plt.plot(swap_paths_hed.T)\n",
    "    # plt.show()\n",
    "    # plt.plot(swap_paths_liab.T)\n",
    "    # plt.show()\n",
    "    struct = lmm.sabr_structured_data()\n",
    "    #lt.plot(struct.hedge.swap.rate)\n",
    "    print(np.std(np.diag(struct.hedge.swaption.vega)))\n",
    "    plt.plot(np.diag(struct.hedge.swaption.vega))\n",
    "    plt.show()"
   ]
  },
  {
   "cell_type": "markdown",
   "id": "8619bafa",
   "metadata": {},
   "source": [
    "### Calm regime"
   ]
  },
  {
   "cell_type": "markdown",
   "id": "9e917fee",
   "metadata": {},
   "source": [
    "Start by plotting the interesting features in the calm regime"
   ]
  },
  {
   "cell_type": "code",
   "execution_count": null,
   "id": "530f42e7",
   "metadata": {},
   "outputs": [],
   "source": [
    "\n"
   ]
  },
  {
   "cell_type": "code",
   "execution_count": null,
   "id": "ff2787e2",
   "metadata": {},
   "outputs": [],
   "source": [
    "reload(lmmsabr)\n",
    "hed_expiry_str = f\"{int(12*hed_expiry)}m\" if type(hed_expiry) == float else f\"{hed_expiry}y\"\n",
    "liab_expiry_str = f\"{int(12*liab_expiry)}m\" if type(liab_expiry) == float else f\"{liab_expiry}y\"\n",
    "lmm = lmmsabr.LMMSABR(imm=True, sub_steps=16, tenor=5, resolution=126, tau=0.5,sim_time=0.25,  swap_hedge_expiry=0.5,swap_client_expiry=1, beta=0.5)\n",
    "\n",
    "# Rebonato configuration\n",
    "rho_config = {'eta_range':(0.0,0.0), 'lambda_range':( 0.0242, 0.0242)}\n",
    "theta_config = {'eta_range':(0.0,0.0), 'lambda_range':( 2*0.0248, 2*0.0248)}\n",
    "phi_config = {'phi_long':-0.6,'phi_short':-0.5, 'lambda3_range': (0.0,0.0), 'lambda4_range':(0.0,0.0)}\n",
    "#phi_config = {'phi_long':0,'phi_short':0, 'lambda3_range': (0.0,0.0), 'lambda4_range':(0.0,0.0)}\n",
    "#theta_config = {'eta_range':(0.0,0.0), 'lambda_range':( 200*0.0248, 200*0.0248)}\n",
    "# fixed 5pct curve\n",
    "df = compute_6m_forward_dataframe(make_nss_yield_df()).iloc[[0]]\n",
    "df[:] = 0.05\n",
    "# set up starting conditions\n",
    "lmm.sample_starting_conditions(df,\n",
    "                            rho_kwargs=rho_config,\n",
    "                            theta_kwargs=theta_config,\n",
    "                            phi_kwargs=phi_config,\n",
    "                            )\n",
    "lmm.prime()\n",
    "0\n",
    "pnl_list = []\n",
    "pnl_list_liab = []\n",
    "#for i in range(20000):\n",
    "lmm.simulate()\n",
    "lmm.get_swap_matrix()\n",
    "#pnl_list.append(lmm.swap_sim[:,0])\n",
    "#pnl_list_liab.append()\n",
    "#print(np.sum(np.array(pnl_list)),np.sum(np.array(pnl_list_liab)))\n",
    "0"
   ]
  },
  {
   "cell_type": "code",
   "execution_count": null,
   "id": "45504f21",
   "metadata": {},
   "outputs": [],
   "source": [
    "diff_list = []\n",
    "for i in range(20000):\n",
    "    lmm.simulate()\n",
    "    diff_list.append(lmm.f_sim[-1,lmm.ids_fwd_canon] *lmm.P[-1,lmm.ids_fwd_canon] -lmm.f_sim[0,lmm.ids_fwd_canon] *lmm.P[0,lmm.ids_fwd_canon])\n",
    "diff_list = np.array(diff_list)\n",
    "np.mean(diff_list, axis=0)"
   ]
  },
  {
   "cell_type": "code",
   "execution_count": null,
   "id": "7e019520",
   "metadata": {},
   "outputs": [],
   "source": [
    "lmm.rho_mat[lmm.ids_fwd_canon[-1],lmm.ids_fwd_canon]"
   ]
  },
  {
   "cell_type": "code",
   "execution_count": null,
   "id": "63b28056",
   "metadata": {},
   "outputs": [],
   "source": [
    "# simulate a bunch of paths, take the mean of the send to last forward, and the path of the last forward, mean them and plot\n",
    "# simulate a bunch of paths, take the mean of the send to last forward, and the path of the last forward, mean them and plot\n",
    "n_sims = 20000\n",
    "# Pre-allocate numpy arrays - much more efficient than lists\n",
    "time_steps = lmm.f_sim.shape[0]\n",
    "swap_sim_mat = np.zeros((n_sims, time_steps))\n",
    "for i in range(n_sims):\n",
    "    lmm.simulate(seed=i)\n",
    "    swap_sim_mat[i] = lmm.swap_sim[:,0]\n",
    "    \n",
    "#mean_second_last = np.mean(second_last_paths, axis=1)\n",
    "mean_last = np.mean(swap_sim_mat, axis=0)\n",
    "print(np.mean(swap_sim_mat))\n",
    "#print(np.mean(second_last_paths[:,-1]))\n",
    "#plt.plot(mean_second_last, label='mean second last')\n",
    "plt.plot(mean_last, label='mean last')\n",
    "plt.legend()\n",
    "plt.title('Mean evolution of forward rates')\n",
    "plt.xlabel('Time step')\n",
    "plt.ylabel('Forward rate')\n",
    "plt.show()"
   ]
  },
  {
   "cell_type": "code",
   "execution_count": null,
   "id": "2e4217e3",
   "metadata": {},
   "outputs": [],
   "source": [
    "lmm.simulate()\n",
    "lmm.sabr_structured_data()\n",
    "struct = lmm.sabr_structured_data()"
   ]
  },
  {
   "cell_type": "code",
   "execution_count": null,
   "id": "e1015567",
   "metadata": {},
   "outputs": [],
   "source": [
    "lmm.sabr_structured_data().hedge.swaption.price[:,0]"
   ]
  },
  {
   "cell_type": "code",
   "execution_count": null,
   "id": "606c3807",
   "metadata": {},
   "outputs": [],
   "source": [
    "n_sims = 10000\n",
    "lmm.switch_regime(False)\n",
    "swap_terminal_value_arr = np.zeros(n_sims)\n",
    "swaption_terminal_value_arr_init = np.zeros((n_sims, lmm.swap_sim_shape[0]))\n",
    "swaption_terminal_value_arr_mid = np.zeros((n_sims, lmm.swap_sim_shape[0]))\n",
    "swaption_terminal_value_arr_end = np.zeros((n_sims, lmm.swap_sim_shape[0]))\n",
    "swap_terminal_value_arr_manual = np.zeros(n_sims)\n",
    "swap_value_arr = np.zeros((n_sims, lmm.swap_sim_shape[0]))\n",
    "last_forward_arr = np.zeros((n_sims, lmm.swap_sim_shape[0]))\n",
    "swap_pnl_arr = np.zeros((n_sims, lmm.swap_sim_shape[0]))\n",
    "swaption_pnl_arr = np.zeros((n_sims, lmm.swap_sim_shape[0]))\n",
    "\n",
    "for i in range(n_sims):\n",
    "    struct = lmm.sabr_structured_data()\n",
    "    lmm.simulate(seed=i)\n",
    "    swap_terminal_value_arr[i] = np.maximum(struct.hedge.swap.value[-1], 0)\n",
    "    swaption_terminal_value_arr_init[i] = struct.hedge.swaption.price[:,0] \n",
    "    swaption_terminal_value_arr_mid[i] = struct.hedge.swaption.price[:,31] \n",
    "    swaption_terminal_value_arr_end[i] = struct.hedge.swaption.price[:,62]\n",
    "    swap_pnl_arr[i] = struct.hedge.swap.pnl[:,0]\n",
    "    swap_value_arr[i] = struct.hedge.swap.value[:,0]\n",
    "    last_forward_arr[i] = lmm.f_sim[:,lmm.ids_fwd_canon[-1]]\n",
    "    swaption_pnl_arr[i] = struct.hedge.swaption.pnl[:,0]\n"
   ]
  },
  {
   "cell_type": "code",
   "execution_count": null,
   "id": "e621cab8",
   "metadata": {},
   "outputs": [],
   "source": [
    "from scipy.stats import binned_statistic\n",
    "slice_time = 62\n",
    "swap_val_slice = swap_value_arr[:,slice_time]\n",
    "swap_value_arr_init = swap_val_slice\n",
    "swap_value_arr_mid = swap_val_slice - swap_value_arr[:,31]\n",
    "swap_value_arr_end = swap_val_slice - swap_value_arr[:,62]\n",
    "swaption_value_empirical = np.maximum(swap_value_arr[:,-1], 0)\n",
    "swaption_value_empirical_init = swaption_value_empirical\n",
    "swaption_value_empirical_mid = np.maximum(swap_value_arr[:,-1] - swap_value_arr[:,31], 0) \n",
    "swaption_value_empirical_end = np.maximum(swap_value_arr[:,-1] - swap_value_arr[:,62], 0)\n",
    "swaption_price_init = swaption_terminal_value_arr_init[:,slice_time]\n",
    "swaption_price_mid = swaption_terminal_value_arr_mid[:,slice_time] \n",
    "swaption_price_end = swaption_terminal_value_arr_end[:,slice_time] \n",
    "# construct strike dependent expected swaption value\n",
    "strikes = np.arange(-0.1,0.15,0.01)\n",
    "strike_val = [np.mean(np.maximum(swap_value_arr[:,-1]+K, 0)) for K in strikes]\n",
    "# get indices for quantiles in the strikes array for the swap_value_arr\n",
    "def plot_binned_mean(x, y, n_bins=10, label=None, linetype='-'):\n",
    "    bin_means, bin_edges, _ = binned_statistic(\n",
    "        x, y,\n",
    "        statistic='mean',\n",
    "        bins=n_bins\n",
    "    )\n",
    "    bin_centers = (bin_edges[:-1] + bin_edges[1:]) / 2\n",
    "    plt.plot(bin_centers, bin_means, linetype, label=label)\n",
    "    plt.legend()\n",
    "    plt.xlabel('Strike offset (100 bps)')\n",
    "    plt.ylabel('price')\n",
    "\n",
    "plt.title('t=0 starting swaptions')\n",
    "plot_binned_mean(swap_value_arr_init, swaption_price_init, label='analytic', linetype='o-')\n",
    "plot_binned_mean(swap_value_arr_init, swaption_value_empirical_init, label='empirical')\n",
    "\n",
    "plt.legend()\n",
    "plt.show()\n",
    "plt.title('t=31 starting swaptions')\n",
    "plot_binned_mean(swap_value_arr_mid, swaption_price_mid, label='analytic', linetype='o-')\n",
    "plot_binned_mean(swap_value_arr_mid, swaption_value_empirical_mid, label='empirical')\n",
    "plt.legend()\n",
    "plt.show()\n",
    "\n",
    "plt.title('t=63 starting swaptions')\n",
    "plot_binned_mean(swap_value_arr_end, swaption_price_end, label='analytic', linetype='o-')\n",
    "plot_binned_mean(swap_value_arr_end, swaption_value_empirical_end, label='empirical')\n",
    "plt.legend()\n",
    "plt.show()\n",
    "\n",
    "# plt.legend()\n",
    "# plt.show()\n",
    "\n",
    "# plt.scatter(swap_value_arr_init.T, swaption_terminal_value_arr_init[:,63]+np.maximum(swap_value_arr[:,-1], 0), alpha=0.5)\n",
    "# plt.show()\n",
    "# plt.scatter(swap_value_arr_mid.T, swaption_terminal_value_arr_mid[:,125]+np.maximum(swap_value_arr[:,-1], 0), alpha=0.5)\n",
    "# plt.scatter(strikes, strike_val)\n",
    "# plt.show()\n",
    "# plt.scatter(swap_value_arr_end.T, (swaption_terminal_value_arr_end[:,125]+np.maximum(swap_value_arr[:,-1], 0)), alpha=0.5)\n",
    "# plt.scatter(strikes, strike_val)\n",
    "# plt.show()\n",
    "# #plt.scatter(swap_value_arr_end.T, swaption_terminal_value_arr_end[:,32])\n",
    "\n"
   ]
  },
  {
   "cell_type": "code",
   "execution_count": null,
   "id": "773c2a58",
   "metadata": {},
   "outputs": [],
   "source": [
    "# mean and std\n",
    "plt.plot(np.mean(swap_value_arr, axis=0), label='mean swap value')\n",
    "plt.fill_between(np.arange(0, swap_value_arr.shape[1]), \n",
    "                 np.mean(swap_value_arr, axis=0) - 1.96*np.std(swap_value_arr, axis=0)/np.sqrt(n_sims), \n",
    "                 np.mean(swap_value_arr, axis=0) + 1.96*np.std(swap_value_arr, axis=0)/np.sqrt(n_sims), \n",
    "                 alpha=0.2)\n",
    "\n",
    "last_fwd_norm = np.mean(swaption_terminal_value_arr_init- swaption_terminal_value_arr_init[:,[0]], axis=0)\n",
    "plt.plot(last_fwd_norm,'-o', label='mean swaption value')\n",
    "\n",
    "plt.legend()\n",
    "plt.title(f'Mean and std of swap value over {n_sims} simulations')\n",
    "plt.axhline(0, color='black', linestyle='--')\n",
    "plt.show()"
   ]
  },
  {
   "cell_type": "code",
   "execution_count": null,
   "id": "1b2d74c7",
   "metadata": {},
   "outputs": [],
   "source": [
    "plt.plot(np.cumsum(np.mean(swaption_pnl_arr, axis=0)) , label='mean swaption value') #\n",
    "plt.fill_between(np.arange(0, swap_value_arr.shape[1]), \n",
    "                 np.abs(np.mean(swaption_pnl_arr, axis=0))-np.abs(np.mean(swaption_price_init,axis=0))*0.005 - 1.96*np.std(swaption_pnl_arr, axis=0)/np.sqrt(n_sims), \n",
    "                 np.abs(np.mean(swaption_pnl_arr, axis=0))-np.abs(np.mean(swaption_price_init,axis=0))*0.005 + 1.96*np.std(swaption_pnl_arr, axis=0)/np.sqrt(n_sims), \n",
    "                 alpha=0.2)\n",
    "plt.plot(np.abs(np.mean(swap_pnl_arr, axis=0))-0.0001 , label='mean swap value')\n",
    "plt.fill_between(np.abs(np.arange(0, swap_value_arr.shape[1])), \n",
    "                 np.abs(np.mean(swap_pnl_arr, axis=0))- 0.0001 - 1.96*np.std(swap_pnl_arr, axis=0)/np.sqrt(n_sims), \n",
    "                 np.abs(np.mean(swap_pnl_arr, axis=0))- 0.0001 + 1.96*np.std(swap_pnl_arr, axis=0)/np.sqrt(n_sims), \n",
    "                 alpha=0.2)\n",
    "plt.legend()\n",
    "plt.axhline(0, color='black', linestyle='--')\n",
    "plt.show()"
   ]
  },
  {
   "cell_type": "code",
   "execution_count": null,
   "id": "46767593",
   "metadata": {},
   "outputs": [],
   "source": [
    "struct.hedge.swaption.pnl"
   ]
  },
  {
   "cell_type": "code",
   "execution_count": null,
   "id": "080ec430",
   "metadata": {},
   "outputs": [],
   "source": [
    "def plot_swaption_terminal_values(swaption_terminal_value_arr, n_sims):\n",
    "    \"\"\"\n",
    "    Plots the mean swaption terminal values with confidence intervals.\n",
    "\n",
    "    Args:\n",
    "        swaption_terminal_value_arr (np.ndarray): Array of swaption terminal values.\n",
    "        n_sims (int): Number of simulations to consider for confidence intervals.\n",
    "    \"\"\"\n",
    "    plt.plot(np.mean(swaption_terminal_value_arr.T, axis=1), \n",
    "             label=f'analytic vs MC expected swaption price ({n_sims} simulations)')\n",
    "    \n",
    "    # Add confidence interval\n",
    "    plt.fill_between(np.arange(swaption_terminal_value_arr.shape[1]),\n",
    "                     np.nanmean(swaption_terminal_value_arr.T, axis=1) - \n",
    "                     np.nanstd(swaption_terminal_value_arr.T[:n_sims], axis=1) / np.sqrt(n_sims), \n",
    "                     np.nanmean(swaption_terminal_value_arr.T, axis=1) + \n",
    "                     np.nanstd(swaption_terminal_value_arr.T[:n_sims], axis=1) / np.sqrt(n_sims), \n",
    "                     alpha=0.2, label=f'confidence interval, {n_sims} simulations')\n",
    "    \n",
    "    # Make line at 0\n",
    "    plt.axhline(0, color='red', linestyle='--', label='Zero line')\n",
    "    plt.legend()\n",
    "    plt.show()\n",
    "\n",
    "# Example usage\n",
    "plot_swaption_terminal_values(swaption_terminal_value_arr_init, 5000)\n",
    "plot_swaption_terminal_values(swaption_terminal_value_arr_mid, 10000)\n",
    "plot_swaption_terminal_values(swaption_terminal_value_arr_end, 20000)\n"
   ]
  },
  {
   "cell_type": "code",
   "execution_count": null,
   "id": "b78d3869",
   "metadata": {},
   "outputs": [],
   "source": []
  },
  {
   "cell_type": "code",
   "execution_count": null,
   "id": "c7f29a66",
   "metadata": {},
   "outputs": [],
   "source": [
    "126/2"
   ]
  },
  {
   "cell_type": "code",
   "execution_count": null,
   "id": "181d8827",
   "metadata": {},
   "outputs": [],
   "source": [
    "#plt.plot(struct.hedge.swap.value)\n",
    "plt.plot(struct.hedge.swap.value)\n",
    "plt.show()"
   ]
  },
  {
   "cell_type": "code",
   "execution_count": null,
   "id": "c787f7bc",
   "metadata": {},
   "outputs": [],
   "source": [
    "plt.plot(lmm.sabr_structured_data().hedge.swap.rate, label='swap rate')\n",
    "plt.show()"
   ]
  },
  {
   "cell_type": "code",
   "execution_count": null,
   "id": "9fc40495",
   "metadata": {},
   "outputs": [],
   "source": [
    "plt.clf()\n",
    "plt.plot(np.mean(swap_sim_mat-swap_sim_mat[0,0], axis=0), label='mean last')\n",
    "plt.legend()\n",
    "plt.title('Mean evolution of swap rates')\n",
    "plt.xlabel('Time step')\n",
    "plt.ylabel('Forward rate')\n",
    "plt.show()"
   ]
  },
  {
   "cell_type": "code",
   "execution_count": null,
   "id": "8244a6dc",
   "metadata": {},
   "outputs": [],
   "source": [
    "f_last_paths.shape"
   ]
  },
  {
   "cell_type": "code",
   "execution_count": null,
   "id": "98dbe6d4",
   "metadata": {},
   "outputs": [],
   "source": [
    "np.array([1e-5])"
   ]
  },
  {
   "cell_type": "code",
   "execution_count": null,
   "id": "beaea0d1",
   "metadata": {},
   "outputs": [],
   "source": [
    "\n",
    "\n",
    "plt.clf()\n",
    "plt.plot(lmm.P[:,lmm.ids_fwd_canon[-2]], label='f_sim')\n",
    "plt.plot( (1+ lmm.tau*lmm.f_sim[:,lmm.ids_fwd_canon[-1]]), label='f_sim*(1+tau*f_sim)')\n",
    "plt.show()"
   ]
  },
  {
   "cell_type": "code",
   "execution_count": null,
   "id": "82849938",
   "metadata": {},
   "outputs": [],
   "source": [
    "np.mean(last_paths), np.std(last_paths,ddof=1)/ np.sqrt(last_paths.shape[0])"
   ]
  },
  {
   "cell_type": "code",
   "execution_count": null,
   "id": "61098f1c",
   "metadata": {},
   "outputs": [],
   "source": [
    "\n",
    "lmm.ids_fwd_canon[-2]"
   ]
  },
  {
   "cell_type": "code",
   "execution_count": null,
   "id": "9aea75f1",
   "metadata": {},
   "outputs": [],
   "source": [
    "lmm.P[:,lmm.ids_fwd_canon]"
   ]
  },
  {
   "cell_type": "code",
   "execution_count": null,
   "id": "11e6dc0a",
   "metadata": {},
   "outputs": [],
   "source": [
    "\n",
    "print(lmm.P[0,lmm.ids_fwd_canon[1]]-lmm.P[0,lmm.ids_fwd_canon[2]])\n",
    "print(lmm.tau*lmm.f_sim[0,lmm.ids_fwd_canon[2]]*lmm.P[0,lmm.ids_fwd_canon[2]])"
   ]
  },
  {
   "cell_type": "code",
   "execution_count": null,
   "id": "6d27c0fc",
   "metadata": {},
   "outputs": [],
   "source": []
  },
  {
   "cell_type": "code",
   "execution_count": null,
   "id": "5ff7d7fc",
   "metadata": {},
   "outputs": [],
   "source": [
    "\n",
    "hed_expiry_str = f\"{int(12*hed_expiry)}m\" if type(hed_expiry) == float else f\"{hed_expiry}y\"\n",
    "liab_expiry_str = f\"{int(12*liab_expiry)}m\" if type(liab_expiry) == float else f\"{liab_expiry}y\"\n",
    "lmm = lmmsabr.LMMSABR(imm=True,tenor=1, resolution=126, tau=0.5,sim_time=127/(2*126),  swap_hedge_expiry=0.5,swap_client_expiry=1, beta=0.5)\n",
    "\n",
    "# Rebonato configuration\n",
    "rho_config = {'eta_range':(0.0,0.0), 'lambda_range':( 0.0242, 0.0242)}\n",
    "theta_config = {'eta_range':(0.0,0.0), 'lambda_range':( 2*0.0248, 2*0.0248)}\n",
    "phi_config = {'phi_long':-0.6,'phi_short':-0.5, 'lambda3_range': (0.0,0.0), 'lambda4_range':(0.0,0.0)}\n",
    "\n",
    "# fixed 5pct curve\n",
    "df = compute_6m_forward_dataframe(make_nss_yield_df()).iloc[[0]]\n",
    "df[:] = 0.05\n",
    "# set up starting conditions\n",
    "lmm.sample_starting_conditions(df,\n",
    "                            rho_kwargs=rho_config,\n",
    "                            theta_kwargs=theta_config,\n",
    "                            phi_kwargs=phi_config)\n",
    "lmm.prime()\n",
    "lmm.simulate()\n",
    "lmm.get_swap_matrix()\n",
    "lmm.sabr_structured_data().hedge.swaption.price"
   ]
  },
  {
   "cell_type": "code",
   "execution_count": null,
   "id": "e1b8228d",
   "metadata": {},
   "outputs": [],
   "source": [
    "\n",
    "idx_swapt = np.arange(lmm.swap_sim_shape[0])\n",
    "\n",
    "\n",
    "n_sim = 20000\n",
    "swaption_val_0Tn = lmm.sabr_structured_data().hedge.swaption.price[idx_swapt,idx_swapt]\n",
    "mc_mat = np.zeros((n_sim, len(swaption_val_0Tn)))\n",
    "for i in range(n_sim):\n",
    "    lmm.simulate()\n",
    "    lmm.get_swap_matrix()\n",
    "    P0T = lmm.P[:,-1]\n",
    "    swaption_val_0Tn = lmm.sabr_structured_data().hedge.swaption.price[idx_swapt,idx_swapt]\n",
    "    PTiTn = lmm.P[-1, -1] # last row is expiry, last column is terminal forward\n",
    "    swap_value = lmm.annuity[:,0] *(lmm.swap_sim[:,0] - lmm.swap_sim[0,0] )\n",
    "    swap_val_0Tn =   swap_value[-1] - swap_value\n",
    "    H = np.maximum(swap_val_0Tn,0)\n",
    "    MC_price = P0T* H / PTiTn\n",
    "    mc_mat[i] = swaption_val_0Tn - MC_price\n",
    "\n",
    "\n"
   ]
  },
  {
   "cell_type": "markdown",
   "id": "6242da23",
   "metadata": {},
   "source": [
    "# TEST MONTE CARLO FOR VALUATION EFTER KØB; TJEK MONEYNESS VS BIAS PLOT BURDE LIGNE EN PARABEL"
   ]
  },
  {
   "cell_type": "code",
   "execution_count": null,
   "id": "430dd35f",
   "metadata": {},
   "outputs": [],
   "source": [
    "\n",
    "lmm.simulate()\n",
    "lmm.get_swap_matrix()\n",
    "\n",
    "swaption_val_0Tn = lmm.sabr_structured_data().hedge.swaption.price[idx_swapt,idx_swapt]\n",
    "np.mean(mc_mat,axis=0)\n",
    "#np.std(mc_mat, axis=0)"
   ]
  },
  {
   "cell_type": "code",
   "execution_count": null,
   "id": "da490f65",
   "metadata": {},
   "outputs": [],
   "source": [
    "lmm.f_sim[:,::-1]"
   ]
  },
  {
   "cell_type": "code",
   "execution_count": null,
   "id": "7d465462",
   "metadata": {},
   "outputs": [],
   "source": [
    "\n",
    "\n",
    "pnl_sum = 0\n",
    "for i in range(10000):\n",
    "    lmm.simulate()\n",
    "    lmm.get_swap_matrix()\n",
    "    pnl_sum += np.sum(lmm.sabr_structured_data().hedge.swap.pnl)\n",
    "\n",
    "pnl_sum"
   ]
  },
  {
   "cell_type": "code",
   "execution_count": null,
   "id": "8c518230",
   "metadata": {},
   "outputs": [],
   "source": [
    "lmm.sabr_structured_data().hedge.swap.value\n",
    "atm_strikes = np.tile(lmm.swap_sim[:,0], (lmm.swap_sim.shape[0],1))\n",
    "\n",
    "lmm.swap_sim[:,0] -atm_strikes[0,0]"
   ]
  },
  {
   "cell_type": "code",
   "execution_count": null,
   "id": "fb9d791c",
   "metadata": {},
   "outputs": [],
   "source": [
    "lmm.annuity"
   ]
  },
  {
   "cell_type": "code",
   "execution_count": null,
   "id": "78e8e7a0",
   "metadata": {},
   "outputs": [],
   "source": [
    "T = lmm.f_sim.shape[0]\n",
    "zcb = 1/(1 + np.diag((lmm.df_init['gamma'].values*lmm.df_init['mod_accrual'].values)[None,:T]*lmm.f_sim[:, lmm.df_init['i_s'][:T]]))\n",
    "zcb[1]-zcb[0] "
   ]
  },
  {
   "cell_type": "code",
   "execution_count": null,
   "id": "d509a04c",
   "metadata": {},
   "outputs": [],
   "source": [
    "#array([ 0.0000008371, -0.0000031232, -0.0000001155, -0.0000019382, -0.0000012647,  0.0000006607, -0.0000011909, -0.0000073156, -0.0000064356, -0.0000061354, -0.0000106451, -0.0000138439, -0.0000095244, -0.000008958 , -0.0000077647, -0.0000088386, -0.0000100318, -0.0000128625, -0.0000115166, -0.0000105204, -0.0000113715, -0.0000073144, -0.0000076155, -0.0000073642, -0.0000084555, -0.0000112434, -0.0000090003, -0.0000090072, -0.0000080868, -0.0000070172, -0.0000077757, -0.0000053111, -0.0000063506, -0.0000085971, -0.000005859 , -0.0000045801, -0.0000037651, -0.0000042182, -0.0000054378, -0.0000061726, -0.0000069523, -0.0000103755, -0.000010628 , -0.000010634 , -0.0000120615, -0.0000103761, -0.0000062183, -0.0000059467, -0.0000065045, -0.0000058745, -0.0000053664, -0.0000032186, -0.0000043676, -0.0000029518,  0.0000002194,  0.000000012 , -0.0000017069, -0.0000064399, -0.000005785 , -0.0000062085, -0.0000044166, -0.0000076904, -0.0000104184, -0.0000078965, -0.0000082125, -0.0000039015,  0.0000009787,  0.0000008826,  0.0000025711,  0.0000044116,  0.0000043872,  0.0000033116,  0.0000055764,  0.0000029038,  0.0000030046,  0.0000029662,  0.000004167 ,  0.0000043804,  0.0000042176,  0.0000012407,  0.000004452 ,  0.0000055709,  0.0000056183,  0.000005853 ,  0.0000036503,  0.0000049367,  0.0000055624,  0.000007511 ,  0.0000080484,  0.000007072 ,  0.0000086943,  0.0000063446,  0.0000057801,  0.0000051984,  0.000005211 ,  0.0000065127,  0.000006563 ,  0.0000066182,  0.0000032482,  0.0000030445,  0.000003162 ,  0.0000019106,  0.0000021553,  0.0000014203,  0.0000018133,  0.0000025412,  0.0000021753,  0.0000037639,  0.000004185 ,  0.0000033238,  0.0000026754,  0.0000008248,  0.0000007841, -0.00000011  ,  0.0000016883,  0.0000002894,  0.0000008407, -0.0000001309, -0.0000017672, -0.0000043909, -0.0000040285, -0.0000029643, -0.0000013108, -0.0000009285, -0.0000012788, -0.0000033312,  0.    "
   ]
  },
  {
   "cell_type": "code",
   "execution_count": null,
   "id": "97309d91",
   "metadata": {},
   "outputs": [],
   "source": [
    "price_analytic- P0T*np.mean(np.array(mc_list))"
   ]
  },
  {
   "cell_type": "code",
   "execution_count": null,
   "id": "6c28ecb5",
   "metadata": {},
   "outputs": [],
   "source": [
    "terminal_forward = 0\n",
    "for i in range(100):\n",
    "    lmm.simulate()\n",
    "    terminal_forward += np.sum(lmm.f_sim[:,-1])\n"
   ]
  },
  {
   "cell_type": "code",
   "execution_count": null,
   "id": "a685757a",
   "metadata": {},
   "outputs": [],
   "source": [
    "f_sim_new = lmm.f_sim.copy()\n",
    "f_sim_new[:,0] = f_sim_new=0.0\n",
    "lmm.f_sim"
   ]
  },
  {
   "cell_type": "markdown",
   "id": "95d63547",
   "metadata": {},
   "source": [
    "### Stressed regime"
   ]
  },
  {
   "cell_type": "code",
   "execution_count": null,
   "id": "1905f441",
   "metadata": {},
   "outputs": [],
   "source": [
    "\n",
    "# lmm.switch_regime(stressed=False)\n",
    "# lmm.simulate()\n",
    "# lmm.get_swap_matrix()\n",
    "# make_plots(lmm)"
   ]
  },
  {
   "cell_type": "markdown",
   "id": "7b7a0cc4",
   "metadata": {},
   "source": [
    "### Curriculum calm->stress regime"
   ]
  },
  {
   "cell_type": "code",
   "execution_count": null,
   "id": "36cdb767",
   "metadata": {},
   "outputs": [],
   "source": []
  },
  {
   "cell_type": "markdown",
   "id": "f2dbef5f",
   "metadata": {},
   "source": [
    "### 50/50 test set for evaluation across training methods"
   ]
  },
  {
   "cell_type": "code",
   "execution_count": null,
   "id": "416f0433",
   "metadata": {},
   "outputs": [],
   "source": []
  }
 ],
 "metadata": {
  "kernelspec": {
   "display_name": "venv",
   "language": "python",
   "name": "python3"
  },
  "language_info": {
   "codemirror_mode": {
    "name": "ipython",
    "version": 3
   },
   "file_extension": ".py",
   "mimetype": "text/x-python",
   "name": "python",
   "nbconvert_exporter": "python",
   "pygments_lexer": "ipython3",
   "version": "3.9.18"
  }
 },
 "nbformat": 4,
 "nbformat_minor": 5
}
