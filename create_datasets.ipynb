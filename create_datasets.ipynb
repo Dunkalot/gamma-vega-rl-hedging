{
 "cells": [
  {
   "cell_type": "code",
   "execution_count": null,
   "id": "b2d21f16",
   "metadata": {},
   "outputs": [],
   "source": []
  },
  {
   "cell_type": "code",
   "execution_count": null,
   "id": "08d0d190",
   "metadata": {},
   "outputs": [],
   "source": [
    "from importlib import reload\n",
    "from environment import lmmsabr\n",
    "from environment.lmmsabr import make_nss_yield_df, compute_6m_forward_dataframe\n",
    "import matplotlib.pyplot as plt\n",
    "import numpy as np\n",
    "np.set_printoptions(precision=10, suppress=True)\n",
    "np.set_printoptions(threshold=np.inf, linewidth=np.inf)\n",
    "reload(lmmsabr)\n",
    "lmm = lmmsabr.LMMSABR(imm=True,tenor=5, resolution=126, tau=0.5,sim_time=0.25, swap_client_expiry=1, swap_hedge_expiry=2,beta=0.5)"
   ]
  },
  {
   "cell_type": "markdown",
   "id": "a807aaae",
   "metadata": {},
   "source": [
    "To isolate the effects of vol regimes, pick a single starting curve"
   ]
  },
  {
   "cell_type": "code",
   "execution_count": null,
   "id": "39e0f728",
   "metadata": {},
   "outputs": [],
   "source": [
    "df = compute_6m_forward_dataframe(make_nss_yield_df()).iloc[[0]]\n",
    "df[:] = 0.05"
   ]
  },
  {
   "cell_type": "markdown",
   "id": "82976b5f",
   "metadata": {},
   "source": [
    "the correlation will stay constant across regimes"
   ]
  },
  {
   "cell_type": "code",
   "execution_count": null,
   "id": "aff43220",
   "metadata": {},
   "outputs": [],
   "source": [
    "rho_config = {'eta_range':(0.0,0.0), 'lambda_range':( 0.0242, 0.0242)}\n",
    "theta_config = {'eta_range':(0.0,0.0), 'lambda_range':( 2*0.0248, 2*0.0248)}\n",
    "phi_config = {'phi_long':-0.6,'phi_short':-0.5, 'lambda3_range': (0.0,0.0), 'lambda4_range':(0.0,0.0)}\n",
    "\n",
    "lmm.sample_starting_conditions(df,\n",
    "                               rho_kwargs=rho_config,\n",
    "                               theta_kwargs=theta_config,\n",
    "                               phi_kwargs=phi_config)\n",
    "lmm.prime()"
   ]
  },
  {
   "cell_type": "code",
   "execution_count": null,
   "id": "228b852f",
   "metadata": {},
   "outputs": [],
   "source": [
    "rng = np.random.default_rng(42)\n",
    "#rng.multivariate_normal(np.zeros(2 * lmm.num_forwards), lmm.sigma_big*1/252, (lmm.swap_sim_shape[0] - 1 * lmm.sub_steps))\n",
    "lmm.plot(lmm.sigma_big)"
   ]
  },
  {
   "cell_type": "code",
   "execution_count": null,
   "id": "51cee0ca",
   "metadata": {},
   "outputs": [],
   "source": [
    "def make_plots():\n",
    "    lmm.simulate(seed=0)\n",
    "    lmm.get_swap_matrix()\n",
    "    lmm.get_sabr_params_imm()\n",
    "    lmm.plot(lmm.h_mat)\n",
    "    lmm.plot(lmm.g_mat)\n",
    "    print(\"f_sim\")\n",
    "    lmm.plot(lmm.f_sim[:,lmm.ids_fwd_canon])\n",
    "    print(\"s_mat\")\n",
    "    lmm.plot(lmm.k_mat[:,lmm.ids_fwd_canon]*lmm.g_mat[:,lmm.ids_fwd_canon])\n",
    "    plt.show()\n",
    "    plt.plot(lmm.V)\n",
    "    plt.show()\n",
    "    plt.plot(lmm.alpha)\n",
    "    plt.show()\n",
    "    plt.plot(lmm.phi)\n",
    "    plt.show()\n",
    "    n_sim = 100\n",
    "    swap_paths_hed = np.zeros((n_sim,lmm.swap_sim_shape[0]))\n",
    "    swap_paths_liab  = np.zeros((n_sim,lmm.swap_sim_shape[0]))\n",
    "    for i in range(n_sim):\n",
    "        lmm.simulate()\n",
    "        lmm.get_swap_matrix()\n",
    "        swap_paths_hed[i] = lmm.swap_sim[:,0]\n",
    "        swap_paths_liab[i] = lmm.swap_sim[:,1]\n",
    "    plt.plot(swap_paths_hed.T)\n",
    "    plt.show()\n",
    "    plt.plot(swap_paths_liab.T)\n",
    "    plt.show()"
   ]
  },
  {
   "cell_type": "markdown",
   "id": "8619bafa",
   "metadata": {},
   "source": [
    "### Calm regime"
   ]
  },
  {
   "cell_type": "markdown",
   "id": "9e917fee",
   "metadata": {},
   "source": [
    "Start by plotting the interesting features in the calm regime"
   ]
  },
  {
   "cell_type": "code",
   "execution_count": null,
   "id": "530f42e7",
   "metadata": {},
   "outputs": [],
   "source": [
    "\n",
    "\n",
    "# lmm.generate_episodes_imm(n_episodes=25_000, out_dir='data/calm_flat_5pct_curve')\n",
    "0"
   ]
  },
  {
   "cell_type": "markdown",
   "id": "95d63547",
   "metadata": {},
   "source": [
    "### Stressed regime"
   ]
  },
  {
   "cell_type": "code",
   "execution_count": null,
   "id": "1905f441",
   "metadata": {},
   "outputs": [],
   "source": [
    "#lmm.generate_episodes_imm(n_episodes=25_000, max_stress_prob=1,min_stress_prob=1, out_dir='data/stress_flat_5pct_curve')\n",
    "lmm.switch_regime(stressed=True)\n",
    "make_plots()"
   ]
  },
  {
   "cell_type": "markdown",
   "id": "7b7a0cc4",
   "metadata": {},
   "source": [
    "### Curriculum calm->stress regime"
   ]
  },
  {
   "cell_type": "code",
   "execution_count": null,
   "id": "36cdb767",
   "metadata": {},
   "outputs": [],
   "source": [
    "#lmm.generate_episodes_imm(n_episodes=20_000, max_stress_prob=0.8,min_stress_prob=0, out_dir='data/curriculum_flat_5pct_curve') # only 20000, eval will be 50/50"
   ]
  },
  {
   "cell_type": "markdown",
   "id": "f2dbef5f",
   "metadata": {},
   "source": [
    "### 50/50 test set for evaluation across training methods"
   ]
  },
  {
   "cell_type": "code",
   "execution_count": null,
   "id": "416f0433",
   "metadata": {},
   "outputs": [],
   "source": [
    "#lmm.generate_episodes_imm(n_episodes=5000, max_stress_prob=0.5,min_stress_prob=0.5, out_dir='data/5050_flat_5pct_curve')"
   ]
  }
 ],
 "metadata": {
  "kernelspec": {
   "display_name": "venv",
   "language": "python",
   "name": "python3"
  },
  "language_info": {
   "codemirror_mode": {
    "name": "ipython",
    "version": 3
   },
   "file_extension": ".py",
   "mimetype": "text/x-python",
   "name": "python",
   "nbconvert_exporter": "python",
   "pygments_lexer": "ipython3",
   "version": "3.9.18"
  }
 },
 "nbformat": 4,
 "nbformat_minor": 5
}
