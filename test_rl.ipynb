{
 "cells": [
  {
   "cell_type": "code",
   "execution_count": 23,
   "id": "d89b60c1",
   "metadata": {},
   "outputs": [],
   "source": [
    "from environment import lmmsabr\n",
    "from importlib import reload\n",
    "reload(lmmsabr)\n",
    "import matplotlib.pyplot as plt\n",
    "import numpy as np"
   ]
  },
  {
   "cell_type": "code",
   "execution_count": null,
   "id": "67fa0e27",
   "metadata": {},
   "outputs": [
    {
     "name": "stdout",
     "output_type": "stream",
     "text": [
      "t_max set to 4\n"
     ]
    },
    {
     "data": {
      "text/plain": [
       "array([[0.06412469, 0.06421725, 0.06430379, ...,        nan,        nan,\n",
       "        0.06049712],\n",
       "       [0.06434474, 0.06444874, 0.06454672, ...,        nan,        nan,\n",
       "        0.06060315],\n",
       "       [0.06363873, 0.06373543, 0.06382615, ...,        nan,        nan,\n",
       "        0.05999802],\n",
       "       ...,\n",
       "       [       nan,        nan,        nan, ...,        nan,        nan,\n",
       "        0.10729846],\n",
       "       [       nan,        nan,        nan, ...,        nan,        nan,\n",
       "        0.10922883],\n",
       "       [       nan,        nan,        nan, ...,        nan,        nan,\n",
       "        0.10863521]])"
      ]
     },
     "execution_count": 51,
     "metadata": {},
     "output_type": "execute_result"
    }
   ],
   "source": [
    "reload(lmmsabr)\n",
    "lmm = lmmsabr.LMMSABR(resolution=26, tenor=4)\n",
    "lmm.sample_starting_conditions(n_curves=1,random_curves=True)\n",
    "lmm.prime()\n",
    "lmm.generate_episodes(n_episodes=50000)\n"
   ]
  }
 ],
 "metadata": {
  "kernelspec": {
   "display_name": "venv",
   "language": "python",
   "name": "python3"
  },
  "language_info": {
   "codemirror_mode": {
    "name": "ipython",
    "version": 3
   },
   "file_extension": ".py",
   "mimetype": "text/x-python",
   "name": "python",
   "nbconvert_exporter": "python",
   "pygments_lexer": "ipython3",
   "version": "3.9.18"
  }
 },
 "nbformat": 4,
 "nbformat_minor": 5
}
