{
 "cells": [
  {
   "cell_type": "code",
   "execution_count": 1,
   "id": "d89b60c1",
   "metadata": {},
   "outputs": [],
   "source": [
    "from environment import utils, Environment\n",
    "from importlib import reload\n",
    "import matplotlib.pyplot as plt\n",
    "\n",
    "\n",
    "from absl import flags\n",
    "FLAGS = flags.FLAGS\n",
    "\n",
    "import numpy as np\n",
    "\n",
    "if not FLAGS.find_module_defining_flag('vega_obs', default=None): \n",
    "    flags.DEFINE_boolean('vega_obs', True, 'Include portfolio vega and hedging option vega in state variables (Default False)')\n",
    "# set vega obs to True to include vega in state variables\n",
    "FLAGS['vega_obs'].value = True\n",
    "FLAGS.mark_as_parsed()\n",
    "\n"
   ]
  },
  {
   "cell_type": "code",
   "execution_count": null,
   "id": "504888c6",
   "metadata": {},
   "outputs": [],
   "source": []
  },
  {
   "cell_type": "code",
   "execution_count": null,
   "id": "67fa0e27",
   "metadata": {},
   "outputs": [],
   "source": [
    "\n"
   ]
  },
  {
   "cell_type": "code",
   "execution_count": 2,
   "id": "3a997456",
   "metadata": {},
   "outputs": [],
   "source": [
    "np.set_printoptions(precision=10, suppress=True)\n",
    "np.set_printoptions(threshold=np.inf, linewidth=np.inf)"
   ]
  },
  {
   "cell_type": "code",
   "execution_count": 3,
   "id": "bd58ee31",
   "metadata": {},
   "outputs": [
    {
     "name": "stdout",
     "output_type": "stream",
     "text": [
      "utils initiated with spread=0, poisson_rate=1, n_episodes=1000\n",
      "\n",
      "Memory usage before lmm: 335.79 MB\n",
      "t_max set to 7\n",
      "!!!! CONTRACT SIZE IS  100.0\n",
      "Memory usage after: 336.90 MB\n",
      "\n",
      "Memory usage after gc: 336.90 MB\n",
      "\n",
      "initializing classes\n",
      "done initializing classes\n",
      "Main portfolio initialized with kernel beta of  1.0  using triangle kernel\n",
      "REMEMBER TO ADD BACK THE SENSITIVITY FOR LIAB AND HEDGE WHEN USING THE RBF KERNEL\n"
     ]
    },
    {
     "name": "stderr",
     "output_type": "stream",
     "text": [
      "/home/hedge/venv/lib/python3.9/site-packages/gym/spaces/box.py:128: UserWarning: \u001b[33mWARN: Box bound precision lowered by casting to float32\u001b[0m\n",
      "  logger.warn(f\"Box bound precision lowered by casting to {self.dtype}\")\n"
     ]
    },
    {
     "data": {
      "text/plain": [
       "array([34513.09375     ,     0.0243248511,   387.0051574707,   380.5766601562,     0.          ,     1.590865612 ,     1.9754823446,     0.          ,     0.          ,     0.          ,     0.          ,     0.          ,     0.          ,     0.          ,     0.          ,     0.          ,     0.          ,     0.          ,     0.          ,     0.          ,     0.          ,     0.          ,     0.          ,     0.          ,     0.          ,     0.          ,     0.          ,     0.          ,     0.          ,     0.          ,     0.          ,     0.          ,     0.          ,     0.          ,     0.          ,     0.          ,     0.          ,     0.          ,     0.          ,     0.          ,     0.          ,     0.          ,     0.          ,     0.          ,     0.          ,     0.          ,     0.          ,     0.          ,     0.          ,     0.          ,     0.          ,     0.          ,     0.          ,     0.          ,     0.          ,     0.          ,     0.          ,     0.          ,     0.          ,     0.          ,     0.          ,     0.          ,     0.          ,     0.          ,     0.          ,     0.          ,     0.          ,     0.          ,     0.          ,     0.          ,     0.          ,     0.          ,     0.          ,     0.          ,     0.          ,     0.          ,     0.          ,     0.          ,     0.          ,     0.          ,     0.          ,     0.          ,     0.          ,     0.          ,     0.          ,     0.          ,     0.          ,     0.          ,     0.          ,     0.          ,     0.          ,     0.          ,     0.          ,     0.          ,     0.          ,     0.          ,     0.          ,     0.          ,     0.          ,     0.          ,     0.          ,     0.          ,     0.          ,     0.          ,     0.          ,     0.          ,     0.          ,     0.          ,     0.          ,     0.          ,     0.          ,     0.          ,     0.          ,     0.          ,     0.          ,     0.          ,     0.          ,     0.          ,     0.          ,     0.          ,     0.          ,     0.          ,     0.          ,     0.          ,     0.          ,     0.          ,     0.          ,     0.          ,     0.          ,     0.          ,     0.          ,     0.          ,     0.          ,     0.          ,     0.          ,     0.          ,     0.          ,     0.          ,     0.          ,     0.          ,     0.          ,     0.          ,     0.          ,     0.          ,     0.          ,     0.          ,     0.          ,     0.          ,     0.          ,     0.          ,     0.          ,     0.          ,     0.          ,     0.          ,     0.          ,     0.          ,     0.          ,     0.          ,     0.          ,     0.          ,     0.          ,     0.          ,     0.          ,     0.          ,     0.          ,     0.          ,     0.          ,     0.          ,     0.          ,     0.          ,     0.          ,     0.          ,     0.          ,     0.          ,     0.          ,     0.          ,     0.          ,     0.          ,     0.          ,     0.          ,     0.          ,     0.          ,     0.          ,     0.          ,     0.          ,     0.          ,     0.          ,     0.          ,     0.          ,     0.          ,     0.          ,     0.          ,     0.          ,     0.          ,     0.          ,     0.          ,     0.          ,     0.          ,     0.          ,     0.          ,     0.          ,     0.          ,     0.          ,     0.          ,     0.          ,     0.          ,     0.          ,     0.          ,     0.          ,     0.          ,     0.          ,     0.          ,     0.          ,     0.          ,     0.          ,     0.          ,     0.          ,     0.          ,     0.          ,     0.          ,     0.          ,     0.          ,     0.          ,     0.          ,     0.          ,     0.          ,     0.          ,     0.          ,     0.          ,     0.          ,     0.          ,     0.          ,     0.          ,     0.          ,     0.          ,     0.          ,     0.          ,     0.          ,     0.          ,     0.          ,     0.          ,     0.          ,     0.          ,     0.          ,     0.          ,     0.          ,     0.          ,     0.          ,     0.          ,     0.          ,     0.          ,     0.          ,     0.          ,     0.          ,     0.          ,     0.          ,     0.          ,     0.          ,     0.          ,     0.          ,     0.          ,     0.          ,     0.          ,     0.          ,     0.          ,     0.          ,     0.          ,     0.          ,     0.          ,     0.          ,     0.          ,     0.          ,     0.          ,     0.          ,     0.          ,     0.          ,     0.          ,     0.          ,     0.          ,     0.          ,     0.          ,     0.          ,     0.          ,     0.          ,     0.          ,     0.          ,     0.          ,     0.          ,     0.          ,     0.          ,     0.          ,     0.          ,     0.          ,     0.          ,     0.          ,     0.          ,     0.          ,     0.          ,     0.          ,     0.          ,     0.          ,     0.          ,     0.          ,     0.          ,     0.          ,     0.          ,     0.          ,     0.          ,     0.          ,     0.          ,     0.          ,     0.          ,     0.          ,     0.          ,     0.          ,     0.          ,     0.          ,     0.          ,     0.          ,     0.          ,     0.          ,     0.          ])"
      ]
     },
     "execution_count": 3,
     "metadata": {},
     "output_type": "execute_result"
    }
   ],
   "source": [
    "reload(utils)\n",
    "reload(Environment)\n",
    "util = utils.Utils()\n",
    "\n",
    "env = Environment.TradingEnv(utils=util)\n",
    "%load_ext autoreload\n",
    "%autoreload 2\n",
    "\n",
    "env.reset()"
   ]
  },
  {
   "cell_type": "code",
   "execution_count": 4,
   "id": "ea7c9362",
   "metadata": {},
   "outputs": [
    {
     "name": "stdout",
     "output_type": "stream",
     "text": [
      "0\n"
     ]
    },
    {
     "ename": "ValueError",
     "evalue": "not enough values to unpack (expected 7, got 2)",
     "output_type": "error",
     "traceback": [
      "\u001b[0;31m---------------------------------------------------------------------------\u001b[0m",
      "\u001b[0;31mValueError\u001b[0m                                Traceback (most recent call last)",
      "Cell \u001b[0;32mIn[4], line 2\u001b[0m\n\u001b[1;32m      1\u001b[0m \u001b[38;5;28mprint\u001b[39m(env\u001b[38;5;241m.\u001b[39mt)\n\u001b[0;32m----> 2\u001b[0m \u001b[43menv\u001b[49m\u001b[38;5;241;43m.\u001b[39;49m\u001b[43mstep\u001b[49m\u001b[43m(\u001b[49m\u001b[43m[\u001b[49m\u001b[38;5;241;43m0\u001b[39;49m\u001b[43m,\u001b[49m\u001b[38;5;241;43m1\u001b[39;49m\u001b[43m]\u001b[49m\u001b[43m)\u001b[49m[\u001b[38;5;241m2\u001b[39m]\n\u001b[1;32m      3\u001b[0m env\u001b[38;5;241m.\u001b[39mportfolio\u001b[38;5;241m.\u001b[39mget_gamma(env\u001b[38;5;241m.\u001b[39mt)\n\u001b[1;32m      4\u001b[0m env\u001b[38;5;241m.\u001b[39mportfolio\u001b[38;5;241m.\u001b[39mget_gamma_local_hed(env\u001b[38;5;241m.\u001b[39mt)\n",
      "File \u001b[0;32m/home/hedge/gamma-vega-rl-hedging/environment/Environment.py:105\u001b[0m, in \u001b[0;36mTradingEnv.step\u001b[0;34m(self, action)\u001b[0m\n\u001b[1;32m    103\u001b[0m t \u001b[38;5;241m=\u001b[39m \u001b[38;5;28mself\u001b[39m\u001b[38;5;241m.\u001b[39mt\n\u001b[1;32m    104\u001b[0m result \u001b[38;5;241m=\u001b[39m StepResult( episode\u001b[38;5;241m=\u001b[39m\u001b[38;5;28mself\u001b[39m\u001b[38;5;241m.\u001b[39msim_episode, t\u001b[38;5;241m=\u001b[39mt)\n\u001b[0;32m--> 105\u001b[0m result\u001b[38;5;241m.\u001b[39maction_mag, result\u001b[38;5;241m.\u001b[39maction_dir, result\u001b[38;5;241m.\u001b[39mgamma, result\u001b[38;5;241m.\u001b[39mvega, result\u001b[38;5;241m.\u001b[39mswaption_action, result\u001b[38;5;241m.\u001b[39mdelta_action_hed, result\u001b[38;5;241m.\u001b[39mdelta_action_liab \u001b[38;5;241m=\u001b[39m action\n\u001b[1;32m    107\u001b[0m \u001b[38;5;28;01mif\u001b[39;00m \u001b[38;5;28mself\u001b[39m\u001b[38;5;241m.\u001b[39mprint_nanwarning \u001b[38;5;129;01mand\u001b[39;00m np\u001b[38;5;241m.\u001b[39misnan(action)\u001b[38;5;241m.\u001b[39many():\n\u001b[1;32m    108\u001b[0m     \u001b[38;5;28mself\u001b[39m\u001b[38;5;241m.\u001b[39mprint_nanwarning \u001b[38;5;241m=\u001b[39m \u001b[38;5;28;01mFalse\u001b[39;00m\n",
      "\u001b[0;31mValueError\u001b[0m: not enough values to unpack (expected 7, got 2)"
     ]
    }
   ],
   "source": [
    "\n",
    "print(env.t)\n",
    "env.step([0,1])[2]\n",
    "env.portfolio.get_gamma(env.t)\n",
    "env.portfolio.get_gamma_local_hed(env.t)\n",
    "env.portfolio.get_vega"
   ]
  },
  {
   "cell_type": "code",
   "execution_count": 7,
   "id": "17cbffa9",
   "metadata": {},
   "outputs": [
    {
     "data": {
      "text/plain": [
       "(105,)"
      ]
     },
     "execution_count": 7,
     "metadata": {},
     "output_type": "execute_result"
    }
   ],
   "source": [
    "tau_vals = np.arange(0, 2 + 1e-3, 1/52).astype(np.float32)\n",
    "tau_vals.shape"
   ]
  },
  {
   "cell_type": "code",
   "execution_count": null,
   "id": "0cf6dc54",
   "metadata": {},
   "outputs": [
    {
     "data": {
      "text/plain": [
       "52.0"
      ]
     },
     "execution_count": 547,
     "metadata": {},
     "output_type": "execute_result"
    }
   ],
   "source": [
    "env.portfolio.get_delta_vec(env.t).shape[0]-env.portfolio.get_delta_vec(env.t).shape[0]/2"
   ]
  },
  {
   "cell_type": "code",
   "execution_count": null,
   "id": "7a88670e",
   "metadata": {},
   "outputs": [
    {
     "name": "stdout",
     "output_type": "stream",
     "text": [
      "(157,)\n"
     ]
    },
    {
     "ename": "TypeError",
     "evalue": "get_instant_vol_func() missing 3 required positional arguments: 'b', 'c', and 'd'",
     "output_type": "error",
     "traceback": [
      "\u001b[0;31m---------------------------------------------------------------------------\u001b[0m",
      "\u001b[0;31mTypeError\u001b[0m                                 Traceback (most recent call last)",
      "Cell \u001b[0;32mIn[541], line 20\u001b[0m\n\u001b[1;32m     18\u001b[0m ts \u001b[38;5;241m=\u001b[39m np\u001b[38;5;241m.\u001b[39mlinspace(\u001b[38;5;241m0\u001b[39m,\u001b[38;5;241m3\u001b[39m,\u001b[38;5;241m105\u001b[39m\u001b[38;5;241m+\u001b[39m\u001b[38;5;241m52\u001b[39m) \u001b[38;5;66;03m# 3 yers\u001b[39;00m\n\u001b[1;32m     19\u001b[0m \u001b[38;5;28mprint\u001b[39m(ts\u001b[38;5;241m.\u001b[39mshape)\n\u001b[0;32m---> 20\u001b[0m vols \u001b[38;5;241m=\u001b[39m \u001b[43mget_instant_vol_func\u001b[49m\u001b[43m(\u001b[49m\u001b[43mts\u001b[49m\u001b[43m,\u001b[49m\u001b[43mlow_bounds\u001b[49m\u001b[38;5;241;43m.\u001b[39;49m\u001b[43mvalues\u001b[49m\u001b[43m(\u001b[49m\u001b[43m)\u001b[49m\u001b[43m)\u001b[49m\n\u001b[1;32m     21\u001b[0m delta_kernel \u001b[38;5;241m=\u001b[39m  vols[:,\u001b[38;5;28;01mNone\u001b[39;00m]\u001b[38;5;241m/\u001b[39mvols[\u001b[38;5;241m52\u001b[39m] \u001b[38;5;66;03m# normalized to 1y mark\u001b[39;00m\n\u001b[1;32m     23\u001b[0m plt\u001b[38;5;241m.\u001b[39mplot(ts,delta_kernel)\n",
      "\u001b[0;31mTypeError\u001b[0m: get_instant_vol_func() missing 3 required positional arguments: 'b', 'c', and 'd'"
     ]
    }
   ],
   "source": [
    "from functools import partial\n",
    "def get_instant_vol_func(tau_i , a,b,c,d):\n",
    "\n",
    "    tau = np.maximum(tau_i, 0)\n",
    "    instantaneous_vol = (a + b * tau) * np.exp(-c * tau) + d\n",
    "    return instantaneous_vol\n",
    "\n",
    "def doust_corr(tau_i,tau_j, eta, beta):\n",
    "    return eta + (1-eta) * np.exp(-beta*np.abs(tau_i-tau_j))\n",
    "\n",
    "def trainable_kernel(tau_i, tau_j, a, b, c, d, eta, beta):\n",
    "    return doust_corr(eta, beta, tau_i,tau_j) * get_instant_vol_func(tau_j , a,b,c,d) / get_instant_vol_func(tau_i , a,b,c,d)\n",
    "    \n",
    "\n",
    "\n",
    "low_bounds = {'a': 1, 'b': 1, 'c': 1, 'd': 0.001}\n",
    "\n",
    "ts = np.linspace(0,3,105+52) # 3 yers\n",
    "print(ts.shape)\n",
    "vols = get_instant_vol_func(ts,low_bounds.values())\n",
    "delta_kernel =  vols[:,None]/vols[52] # normalized to 1y mark\n",
    " \n",
    "plt.plot(ts,delta_kernel)\n",
    "plt.show()"
   ]
  },
  {
   "cell_type": "code",
   "execution_count": null,
   "id": "c34041ea",
   "metadata": {},
   "outputs": [
    {
     "data": {
      "text/plain": [
       "2.0"
      ]
     },
     "execution_count": 561,
     "metadata": {},
     "output_type": "execute_result"
    }
   ],
   "source": [
    "ts = np.arange(0,3,1/52) # 3 yers\n",
    "ts[104]"
   ]
  },
  {
   "cell_type": "code",
   "execution_count": null,
   "id": "0ab965af",
   "metadata": {},
   "outputs": [],
   "source": [
    "import numpy as np\n",
    "import sonnet as snt\n",
    "import tensorflow as tf\n",
    "import tensorflow_probability as tfp\n",
    "\n",
    "# Alias for bijectors\n",
    "tfb = tfp.bijectors\n",
    "\n",
    "class OneYearKernelLayer(snt.Module):\n",
    "    \"\"\"\n",
    "    Sonnet module acting like a layer: takes a risk vector [T] and returns\n",
    "    a single exposure scalar. Internally computes trainable kernel weights\n",
    "    anchored at a fixed tenor (1y at index anchor_index).\n",
    "\n",
    "    Usage:\n",
    "        exposure = kernel_layer(risk_vector)\n",
    "\n",
    "    Parameters a,b,c,d,eta,beta are constrained to (0,1) via Sigmoid bijector.\n",
    "    \"\"\"\n",
    "    def __init__(self,\n",
    "                 tenor_grid=None,\n",
    "                 anchor_index=52,\n",
    "                 init_params=None,\n",
    "                 a_scale = 0.2,\n",
    "                 b_scale=0.2,\n",
    "                 c_scale = 1.5,\n",
    "                 d_scale=0.5,\n",
    "\n",
    "                 name=None):\n",
    "        super().__init__(name=name)\n",
    "        # Build tenor grid: default 0 to 3 years at 1/52\n",
    "        if tenor_grid is None:\n",
    "            tau_vals = np.arange(0, 2+1e-5, 1/52).astype(np.float32)\n",
    "        else:\n",
    "            tau_vals = np.array(tenor_grid, dtype=np.float32)\n",
    "        self.tau_grid = tf.constant(tau_vals, dtype=tf.float32)\n",
    "        self.anchor_index = anchor_index\n",
    "\n",
    "        # Initial params in (0,1)\n",
    "        defaults = init_params or {'a':0.5,'b':0.5,'c':1.,'d':0.001,'eta':0.5,'beta':0.5}\n",
    "        sigmoid = tfb.Sigmoid()\n",
    "        # Vol function params\n",
    "        self.a    = tfp.util.TransformedVariable(defaults['a'],    sigmoid, name='a') * a_scale\n",
    "        self.b    = tfp.util.TransformedVariable(defaults['b'],    sigmoid, name='b') * b_scale\n",
    "        self.c    = tfp.util.TransformedVariable(defaults['c'],    sigmoid, name='c') * c_scale\n",
    "        self.d    = tfp.util.TransformedVariable(defaults['d'],    sigmoid, name='d')*d_scale + 0.001\n",
    "        # Correlation params\n",
    "        self.eta  = tfp.util.TransformedVariable(defaults['eta'],  sigmoid, name='eta')*0.95\n",
    "        self.beta = tfp.util.TransformedVariable(defaults['beta'], sigmoid, name='beta')*0.5\n",
    "\n",
    "    def _compute_weights(self):\n",
    "        \"\"\"\n",
    "        Compute the kernel weight vector [T].\"\"\"\n",
    "        tau = self.tau_grid                             # [T]\n",
    "        vols = (self.a + self.b * tau)*tf.exp(-self.c * tau) + self.d  # [T]\n",
    "        vol_ref = vols[self.anchor_index]                # scalar\n",
    "        tau_ref = tau[self.anchor_index]                 # scalar\n",
    "        dist = tf.abs(tau - tau_ref)                     # [T]\n",
    "        corr = self.eta + (1. - self.eta)*tf.exp(-self.beta * dist)  # [T]\n",
    "        return corr * (vols / vol_ref)                   # [T]\n",
    "\n",
    "    def __call__(self, risk_vector):\n",
    "        \"\"\"\n",
    "        Args:\n",
    "          risk_vector: 1D tensor [T] of risk sensitivities.\n",
    "        Returns:\n",
    "          scalar exposure.\n",
    "        \"\"\"\n",
    "        weights = self._compute_weights()                # [T]\n",
    "        plt.clf()\n",
    "        plt.plot(weights)\n",
    "        plt.show()\n",
    "        return tf.reduce_sum(weights * risk_vector)      # scalar"
   ]
  },
  {
   "cell_type": "code",
   "execution_count": null,
   "id": "6e1a8d73",
   "metadata": {},
   "outputs": [],
   "source": [
    "layer = OneYearKernelLayer()"
   ]
  },
  {
   "cell_type": "code",
   "execution_count": null,
   "id": "41435efa",
   "metadata": {},
   "outputs": [
    {
     "data": {
      "application/vnd.jupyter.widget-view+json": {
       "model_id": "0c4d226076084d38816d2f4f421b7765",
       "version_major": 2,
       "version_minor": 0
      },
      "image/png": "[encoded data removed]",
      "text/html": [
       "\n",
       "            <div style=\"display: inline-block;\">\n",
       "                <div class=\"jupyter-widgets widget-label\" style=\"text-align: center;\">\n",
       "                    Figure\n",
       "                </div>\n",
       "                <img src='data:image/png;base64,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' width=640.0/>\n",
       "            </div>\n",
       "        "
      ],
      "text/plain": [
       "Canvas(toolbar=Toolbar(toolitems=[('Home', 'Reset original view', 'home', 'home'), ('Back', 'Back to previous …"
      ]
     },
     "metadata": {},
     "output_type": "display_data"
    },
    {
     "data": {
      "text/plain": [
       "<tf.Tensor: shape=(), dtype=float32, numpy=108.80518>"
      ]
     },
     "execution_count": 598,
     "metadata": {},
     "output_type": "execute_result"
    }
   ],
   "source": [
    "layer(np.ones(105))"
   ]
  },
  {
   "cell_type": "code",
   "execution_count": null,
   "id": "a35e1e96",
   "metadata": {},
   "outputs": [
    {
     "name": "stdout",
     "output_type": "stream",
     "text": [
      "[2.]\n"
     ]
    }
   ],
   "source": [
    "t=52\n",
    "gv = np.arange(1,3+1e-3,1/52)[:53+t]\n",
    "gt = np.zeros(105)\n",
    "gt[52-t:] = gv\n",
    "\n",
    "print(gt[:,None][52])"
   ]
  }
 ],
 "metadata": {
  "kernelspec": {
   "display_name": "venv",
   "language": "python",
   "name": "python3"
  },
  "language_info": {
   "codemirror_mode": {
    "name": "ipython",
    "version": 3
   },
   "file_extension": ".py",
   "mimetype": "text/x-python",
   "name": "python",
   "nbconvert_exporter": "python",
   "pygments_lexer": "ipython3",
   "version": "3.9.18"
  }
 },
 "nbformat": 4,
 "nbformat_minor": 5
}
