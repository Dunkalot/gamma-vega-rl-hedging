{
 "cells": [
  {
   "cell_type": "code",
   "execution_count": 537,
   "id": "d89b60c1",
   "metadata": {},
   "outputs": [],
   "source": [
    "from environment import utils, Environment\n",
    "from importlib import reload\n",
    "import matplotlib.pyplot as plt\n",
    "\n",
    "\n",
    "from absl import flags\n",
    "FLAGS = flags.FLAGS\n",
    "\n",
    "import numpy as np\n",
    "\n",
    "if not FLAGS.find_module_defining_flag('vega_obs', default=None): \n",
    "    flags.DEFINE_boolean('vega_obs', True, 'Include portfolio vega and hedging option vega in state variables (Default False)')\n",
    "# set vega obs to True to include vega in state variables\n",
    "FLAGS['vega_obs'].value = True\n",
    "FLAGS.mark_as_parsed()\n",
    "\n"
   ]
  },
  {
   "cell_type": "code",
   "execution_count": null,
   "id": "504888c6",
   "metadata": {},
   "outputs": [],
   "source": []
  },
  {
   "cell_type": "code",
   "execution_count": null,
   "id": "67fa0e27",
   "metadata": {},
   "outputs": [],
   "source": [
    "\n"
   ]
  },
  {
   "cell_type": "code",
   "execution_count": 538,
   "id": "3a997456",
   "metadata": {},
   "outputs": [],
   "source": [
    "np.set_printoptions(precision=10, suppress=True)\n",
    "np.set_printoptions(threshold=np.inf, linewidth=np.inf)"
   ]
  },
  {
   "cell_type": "code",
   "execution_count": 539,
   "id": "bd58ee31",
   "metadata": {},
   "outputs": [
    {
     "name": "stdout",
     "output_type": "stream",
     "text": [
      "utils initiated with spread=0, poisson_rate=1, n_episodes=1000\n",
      "\n",
      "Memory usage before lmm: 433.07 MB\n",
      "t_max set to 7\n",
      "!!!! CONTRACT SIZE IS  100.0\n",
      "Memory usage after: 433.89 MB\n",
      "\n",
      "Memory usage after gc: 433.89 MB\n",
      "\n",
      "initializing classes\n",
      "done initializing classes\n",
      "Main portfolio initialized with kernel beta of  1.0  using triangle kernel\n",
      "REMEMBER TO ADD BACK THE SENSITIVITY FOR LIAB AND HEDGE WHEN USING THE RBF KERNEL\n",
      "The autoreload extension is already loaded. To reload it, use:\n",
      "  %reload_ext autoreload\n"
     ]
    },
    {
     "name": "stderr",
     "output_type": "stream",
     "text": [
      "/home/hedge/venv/lib/python3.9/site-packages/gym/spaces/box.py:128: UserWarning: \u001b[33mWARN: Box bound precision lowered by casting to float32\u001b[0m\n",
      "  logger.warn(f\"Box bound precision lowered by casting to {self.dtype}\")\n"
     ]
    },
    {
     "data": {
      "text/plain": [
       "array([  0.          ,   1.5908656   ,   1.9754823   ,   0.          , 345.13095     ,   0.          ,   0.0002432485], dtype=float32)"
      ]
     },
     "execution_count": 539,
     "metadata": {},
     "output_type": "execute_result"
    }
   ],
   "source": [
    "reload(utils)\n",
    "reload(Environment)\n",
    "util = utils.Utils()\n",
    "\n",
    "env = Environment.TradingEnv(utils=util)\n",
    "%load_ext autoreload\n",
    "%autoreload 2\n",
    "\n",
    "env.reset()"
   ]
  },
  {
   "cell_type": "code",
   "execution_count": 540,
   "id": "ea7c9362",
   "metadata": {},
   "outputs": [
    {
     "name": "stdout",
     "output_type": "stream",
     "text": [
      "0\n",
      "cost of swaption and position size -0.0 -0.0\n"
     ]
    },
    {
     "data": {
      "text/plain": [
       "<bound method MainPortfolio.get_vega of <environment.Trading.MainPortfolio object at 0x7f16c918b280>>"
      ]
     },
     "execution_count": 540,
     "metadata": {},
     "output_type": "execute_result"
    }
   ],
   "source": [
    "\n",
    "print(env.t)\n",
    "env.step([0,1])[2]\n",
    "env.portfolio.get_gamma(env.t)\n",
    "env.portfolio.get_gamma_local_hed(env.t)\n",
    "env.portfolio.get_vega"
   ]
  },
  {
   "cell_type": "code",
   "execution_count": 547,
   "id": "0cf6dc54",
   "metadata": {},
   "outputs": [
    {
     "data": {
      "text/plain": [
       "52.0"
      ]
     },
     "execution_count": 547,
     "metadata": {},
     "output_type": "execute_result"
    }
   ],
   "source": [
    "env.portfolio.get_delta_vec(env.t).shape[0]-env.portfolio.get_delta_vec(env.t).shape[0]/2"
   ]
  },
  {
   "cell_type": "code",
   "execution_count": 541,
   "id": "7a88670e",
   "metadata": {},
   "outputs": [
    {
     "name": "stdout",
     "output_type": "stream",
     "text": [
      "(157,)\n"
     ]
    },
    {
     "ename": "TypeError",
     "evalue": "get_instant_vol_func() missing 3 required positional arguments: 'b', 'c', and 'd'",
     "output_type": "error",
     "traceback": [
      "\u001b[0;31m---------------------------------------------------------------------------\u001b[0m",
      "\u001b[0;31mTypeError\u001b[0m                                 Traceback (most recent call last)",
      "Cell \u001b[0;32mIn[541], line 20\u001b[0m\n\u001b[1;32m     18\u001b[0m ts \u001b[38;5;241m=\u001b[39m np\u001b[38;5;241m.\u001b[39mlinspace(\u001b[38;5;241m0\u001b[39m,\u001b[38;5;241m3\u001b[39m,\u001b[38;5;241m105\u001b[39m\u001b[38;5;241m+\u001b[39m\u001b[38;5;241m52\u001b[39m) \u001b[38;5;66;03m# 3 yers\u001b[39;00m\n\u001b[1;32m     19\u001b[0m \u001b[38;5;28mprint\u001b[39m(ts\u001b[38;5;241m.\u001b[39mshape)\n\u001b[0;32m---> 20\u001b[0m vols \u001b[38;5;241m=\u001b[39m \u001b[43mget_instant_vol_func\u001b[49m\u001b[43m(\u001b[49m\u001b[43mts\u001b[49m\u001b[43m,\u001b[49m\u001b[43mlow_bounds\u001b[49m\u001b[38;5;241;43m.\u001b[39;49m\u001b[43mvalues\u001b[49m\u001b[43m(\u001b[49m\u001b[43m)\u001b[49m\u001b[43m)\u001b[49m\n\u001b[1;32m     21\u001b[0m delta_kernel \u001b[38;5;241m=\u001b[39m  vols[:,\u001b[38;5;28;01mNone\u001b[39;00m]\u001b[38;5;241m/\u001b[39mvols[\u001b[38;5;241m52\u001b[39m] \u001b[38;5;66;03m# normalized to 1y mark\u001b[39;00m\n\u001b[1;32m     23\u001b[0m plt\u001b[38;5;241m.\u001b[39mplot(ts,delta_kernel)\n",
      "\u001b[0;31mTypeError\u001b[0m: get_instant_vol_func() missing 3 required positional arguments: 'b', 'c', and 'd'"
     ]
    }
   ],
   "source": [
    "from functools import partial\n",
    "def get_instant_vol_func(tau_i , a,b,c,d):\n",
    "\n",
    "    tau = np.maximum(tau_i, 0)\n",
    "    instantaneous_vol = (a + b * tau) * np.exp(-c * tau) + d\n",
    "    return instantaneous_vol\n",
    "\n",
    "def doust_corr(tau_i,tau_j, eta, beta):\n",
    "    return eta + (1-eta) * np.exp(-beta*np.abs(tau_i-tau_j))\n",
    "\n",
    "def trainable_kernel(tau_i, tau_j, a, b, c, d, eta, beta):\n",
    "    return doust_corr(eta, beta, tau_i,tau_j) * get_instant_vol_func(tau_j , a,b,c,d) / get_instant_vol_func(tau_i , a,b,c,d)\n",
    "    \n",
    "\n",
    "\n",
    "low_bounds = {'a': 1, 'b': 1, 'c': 1, 'd': 0.001}\n",
    "\n",
    "ts = np.linspace(0,3,105+52) # 3 yers\n",
    "print(ts.shape)\n",
    "vols = get_instant_vol_func(ts,low_bounds.values())\n",
    "delta_kernel =  vols[:,None]/vols[52] # normalized to 1y mark\n",
    " \n",
    "plt.plot(ts,delta_kernel)\n",
    "plt.show()"
   ]
  },
  {
   "cell_type": "code",
   "execution_count": 561,
   "id": "c34041ea",
   "metadata": {},
   "outputs": [
    {
     "data": {
      "text/plain": [
       "2.0"
      ]
     },
     "execution_count": 561,
     "metadata": {},
     "output_type": "execute_result"
    }
   ],
   "source": [
    "ts = np.arange(0,3,1/52) # 3 yers\n",
    "ts[104]"
   ]
  },
  {
   "cell_type": "code",
   "execution_count": 562,
   "id": "0ab965af",
   "metadata": {},
   "outputs": [
    {
     "name": "stderr",
     "output_type": "stream",
     "text": [
      "/home/hedge/venv/lib/python3.9/site-packages/sonnet/src/types.py:34: DeprecationWarning: `np.bool` is a deprecated alias for the builtin `bool`. To silence this warning, use `bool` by itself. Doing this will not modify any behavior and is safe. If you specifically wanted the numpy scalar type, use `np.bool_` here.\n",
      "Deprecated in NumPy 1.20; for more details and guidance: https://numpy.org/devdocs/release/1.20.0-notes.html#deprecations\n",
      "  BoolLike = Union[bool, np.bool, TensorLike]\n"
     ]
    }
   ],
   "source": [
    "import sonnet as snt\n",
    "import tensorflow as tf\n",
    "import tensorflow_probability as tfp\n",
    "\n",
    "# Use short alias for bijectors\n",
    "tfb = tfp.bijectors\n",
    "\n",
    "class OneYearKernel(snt.Module):\n",
    "    \"\"\"\n",
    "    Trainable 1D kernel anchored at a fixed index (e.g., 52 for 1y), over\n",
    "    an input tenor vector of length T.  \n",
    "    Computes\n",
    "        vols_j = f(tau_j)\n",
    "        vol_ref = vols_j[anchor_idx]\n",
    "        index_dist = |j - anchor_idx|\n",
    "        corr_j = eta + (1-eta)*exp(-beta*index_dist)\n",
    "        kernel_j = corr_j * (vols_j/vol_ref)\n",
    "\n",
    "    All parameters (a,b,c,d,eta,beta) are constrained to (0,1).\n",
    "    \"\"\"\n",
    "    def __init__(self,\n",
    "                 init_params=None,\n",
    "                 anchor_index=52,\n",
    "                 name=None):\n",
    "        super().__init__(name=name)\n",
    "        # Default initial values in (0,1) space: a,b,c,d,eta,beta\n",
    "        defaults = init_params or {\n",
    "            'a': 0.5,\n",
    "            'b': 0.5,\n",
    "            'c': 0.5,\n",
    "            'd': 0.001,\n",
    "            'eta': 0.5,\n",
    "            'beta': 0.5,\n",
    "        }\n",
    "        sigmoid = tfb.Sigmoid()\n",
    "        # Rebonato volatility function parameters\n",
    "        self.a = tfp.util.TransformedVariable(defaults['a'], sigmoid,\n",
    "                                              dtype=tf.float32, name='a')\n",
    "        self.b = tfp.util.TransformedVariable(defaults['b'], sigmoid,\n",
    "                                              dtype=tf.float32, name='b')\n",
    "        self.c = tfp.util.TransformedVariable(defaults['c'], sigmoid,\n",
    "                                              dtype=tf.float32, name='c')\n",
    "        self.d = tfp.util.TransformedVariable(defaults['d'], sigmoid,\n",
    "                                              dtype=tf.float32, name='d')\n",
    "        # DOUST-style correlation parameters\n",
    "        self.eta = tfp.util.TransformedVariable(defaults['eta'], sigmoid,\n",
    "                                                dtype=tf.float32, name='eta')\n",
    "        self.beta = tfp.util.TransformedVariable(defaults['beta'], sigmoid,\n",
    "                                                 dtype=tf.float32, name='beta')\n",
    "        # Anchor index in the tenor vector (e.g. 52 for 1y)\n",
    "        self.anchor_index = anchor_index\n",
    "\n",
    "    def get_instant_vol(self, tau):\n",
    "        \"\"\"\n",
    "        Instantaneous vol function f(tau) = (a + b*tau)*exp(-c*tau) + d\n",
    "        \"\"\"\n",
    "        tau = tf.maximum(tau, 0.0)\n",
    "        return (self.a + self.b * tau) * tf.exp(-self.c * tau) + self.d\n",
    "\n",
    "    def __call__(self, tau_j):\n",
    "        \"\"\"\n",
    "        Args:\n",
    "          tau_j: 1D tensor of shape [T] containing tenor points (years).\n",
    "        Returns:\n",
    "          kernel: 1D tensor [T] of normalized weights.\n",
    "        \"\"\"\n",
    "        # Compute instantaneous vols for each tenor\n",
    "        vols_j = self.get_instant_vol(tau_j)  # [T]\n",
    "        # Use the anchor tenor's vol for normalization\n",
    "        vol_ref = vols_j[self.anchor_index]   # scalar\n",
    "\n",
    "        # Build index distance vector\n",
    "        T = tf.shape(tau_j)[0]\n",
    "        idx = tf.cast(tf.range(T), tf.float32)\n",
    "        anchor_idx = tf.cast(self.anchor_index, tf.float32)\n",
    "        index_dist = tf.abs(idx - anchor_idx)  # [T]\n",
    "\n",
    "        # DOUST-style correlation based on index distance\n",
    "        corr_j = self.eta + (1. - self.eta) * tf.exp(-self.beta * index_dist)\n",
    "\n",
    "        # Final kernel weights\n",
    "        kernel = corr_j * (vols_j / vol_ref)\n",
    "        return kernel"
   ]
  },
  {
   "cell_type": "code",
   "execution_count": null,
   "id": "6e1a8d73",
   "metadata": {},
   "outputs": [],
   "source": []
  }
 ],
 "metadata": {
  "kernelspec": {
   "display_name": "venv",
   "language": "python",
   "name": "python3"
  },
  "language_info": {
   "codemirror_mode": {
    "name": "ipython",
    "version": 3
   },
   "file_extension": ".py",
   "mimetype": "text/x-python",
   "name": "python",
   "nbconvert_exporter": "python",
   "pygments_lexer": "ipython3",
   "version": "3.9.18"
  }
 },
 "nbformat": 4,
 "nbformat_minor": 5
}
