{
 "cells": [
  {
   "cell_type": "code",
   "execution_count": 23,
   "id": "d89b60c1",
   "metadata": {},
   "outputs": [],
   "source": [
    "from environment import lmmsabr\n",
    "from importlib import reload\n",
    "reload(lmmsabr)\n",
    "import matplotlib.pyplot as plt\n",
    "import numpy as np"
   ]
  },
  {
   "cell_type": "code",
   "execution_count": 52,
   "id": "67fa0e27",
   "metadata": {},
   "outputs": [
    {
     "name": "stdout",
     "output_type": "stream",
     "text": [
      "t_max set to 7\n"
     ]
    },
    {
     "name": "stderr",
     "output_type": "stream",
     "text": [
      "Generating episode blocks: 100%|██████████| 50/50 [20:43<00:00, 24.86s/block]\n"
     ]
    },
    {
     "ename": "AttributeError",
     "evalue": "Can't pickle local object 'make_swap_indexer.<locals>.indexer'",
     "output_type": "error",
     "traceback": [
      "\u001b[0;31m---------------------------------------------------------------------------\u001b[0m",
      "\u001b[0;31mAttributeError\u001b[0m                            Traceback (most recent call last)",
      "Cell \u001b[0;32mIn[52], line 5\u001b[0m\n\u001b[1;32m      3\u001b[0m lmm\u001b[38;5;241m.\u001b[39msample_starting_conditions(n_curves\u001b[38;5;241m=\u001b[39m\u001b[38;5;241m1\u001b[39m,random_curves\u001b[38;5;241m=\u001b[39m\u001b[38;5;28;01mTrue\u001b[39;00m)\n\u001b[1;32m      4\u001b[0m lmm\u001b[38;5;241m.\u001b[39mprime()\n\u001b[0;32m----> 5\u001b[0m \u001b[43mlmm\u001b[49m\u001b[38;5;241;43m.\u001b[39;49m\u001b[43mgenerate_episodes\u001b[49m\u001b[43m(\u001b[49m\u001b[43mn_episodes\u001b[49m\u001b[38;5;241;43m=\u001b[39;49m\u001b[38;5;241;43m50000\u001b[39;49m\u001b[43m)\u001b[49m\n",
      "File \u001b[0;32m/home/hedge/gamma-vega-rl-hedging/environment/lmmsabr.py:1968\u001b[0m, in \u001b[0;36mLMMSABR.generate_episodes\u001b[0;34m(self, n_episodes, poisson_rate, block, out_dir)\u001b[0m\n\u001b[1;32m   1966\u001b[0m pickle_path \u001b[38;5;241m=\u001b[39m Path(timestamped_out_dir) \u001b[38;5;241m/\u001b[39m \u001b[38;5;124m\"\u001b[39m\u001b[38;5;124mlmm_samples.pkl\u001b[39m\u001b[38;5;124m\"\u001b[39m\n\u001b[1;32m   1967\u001b[0m \u001b[38;5;28;01mwith\u001b[39;00m \u001b[38;5;28mopen\u001b[39m(pickle_path, \u001b[38;5;124m\"\u001b[39m\u001b[38;5;124mwb\u001b[39m\u001b[38;5;124m\"\u001b[39m) \u001b[38;5;28;01mas\u001b[39;00m f:\n\u001b[0;32m-> 1968\u001b[0m     \u001b[43mpickle\u001b[49m\u001b[38;5;241;43m.\u001b[39;49m\u001b[43mdump\u001b[49m\u001b[43m(\u001b[49m\u001b[38;5;28;43mself\u001b[39;49m\u001b[43m,\u001b[49m\u001b[43m \u001b[49m\u001b[43mf\u001b[49m\u001b[43m)\u001b[49m\n\u001b[1;32m   1970\u001b[0m \u001b[38;5;28mprint\u001b[39m(\u001b[38;5;124mf\u001b[39m\u001b[38;5;124m\"\u001b[39m\u001b[38;5;124mAll episodes streamed to disk in \u001b[39m\u001b[38;5;124m'\u001b[39m\u001b[38;5;132;01m{\u001b[39;00mtimestamped_out_dir\u001b[38;5;132;01m}\u001b[39;00m\u001b[38;5;124m'\u001b[39m\u001b[38;5;124m.\u001b[39m\u001b[38;5;124m\"\u001b[39m)\n\u001b[1;32m   1971\u001b[0m \u001b[38;5;28mprint\u001b[39m(\u001b[38;5;124mf\u001b[39m\u001b[38;5;124m\"\u001b[39m\u001b[38;5;124mLMMM samples list of dicts saved to \u001b[39m\u001b[38;5;124m'\u001b[39m\u001b[38;5;132;01m{\u001b[39;00mpickle_path\u001b[38;5;132;01m}\u001b[39;00m\u001b[38;5;124m'\u001b[39m\u001b[38;5;124m.\u001b[39m\u001b[38;5;124m\"\u001b[39m)\n",
      "\u001b[0;31mAttributeError\u001b[0m: Can't pickle local object 'make_swap_indexer.<locals>.indexer'"
     ]
    }
   ],
   "source": [
    "reload(lmmsabr)\n",
    "lmm = lmmsabr.LMMSABR(resolution=26, tenor=4)\n",
    "lmm.sample_starting_conditions(n_curves=1,random_curves=True)\n",
    "lmm.prime()\n",
    "lmm.generate_episodes(n_episodes=50000)\n"
   ]
  },
  {
   "cell_type": "code",
   "execution_count": 60,
   "id": "cedb6ef0",
   "metadata": {},
   "outputs": [
    {
     "data": {
      "text/plain": [
       "array([1., 1.])"
      ]
     },
     "execution_count": 60,
     "metadata": {},
     "output_type": "execute_result"
    }
   ],
   "source": [
    "mat = np.ones((2,2))\n",
    "mat2 = np.ones((2,2))*2\n",
    "conc = np.concatenate((mat, mat2), axis=1)\n",
    "\n",
    "conc[:,0+mat2.shape[0]-1]"
   ]
  }
 ],
 "metadata": {
  "kernelspec": {
   "display_name": "venv",
   "language": "python",
   "name": "python3"
  },
  "language_info": {
   "codemirror_mode": {
    "name": "ipython",
    "version": 3
   },
   "file_extension": ".py",
   "mimetype": "text/x-python",
   "name": "python",
   "nbconvert_exporter": "python",
   "pygments_lexer": "ipython3",
   "version": "3.9.18"
  }
 },
 "nbformat": 4,
 "nbformat_minor": 5
}
